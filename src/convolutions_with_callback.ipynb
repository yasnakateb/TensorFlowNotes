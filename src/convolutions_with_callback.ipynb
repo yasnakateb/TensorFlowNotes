{
  "cells": [
    {
      "cell_type": "code",
      "execution_count": null,
      "metadata": {
        "id": "ZpztRwBouwYp",
        "tags": [
          "graded"
        ]
      },
      "outputs": [],
      "source": [
        "import os\n",
        "import numpy as np\n",
        "import tensorflow as tf\n",
        "from tensorflow import keras"
      ]
    },
    {
      "cell_type": "code",
      "execution_count": null,
      "metadata": {
        "tags": [
          "graded"
        ],
        "id": "irg3ulXde7lc"
      },
      "outputs": [],
      "source": [
        "# Get current working directory\n",
        "current_dir = os.getcwd() \n",
        "\n",
        "# Append data/mnist.npz to the previous path to get the full path\n",
        "data_path = os.path.join(current_dir, \"data/mnist.npz\") \n",
        "\n",
        "# Get only training set\n",
        "(training_images, training_labels), _ = tf.keras.datasets.mnist.load_data(path=data_path) "
      ]
    },
    {
      "cell_type": "code",
      "execution_count": null,
      "metadata": {
        "tags": [
          "graded"
        ],
        "id": "EV6xMHrPe7lf"
      },
      "outputs": [],
      "source": [
        "mnist = tf.keras.datasets.mnist\n",
        "(training_images, train_labels),(test_images, test_labels) = mnist.load_data()\n",
        "training_images=training_images[0:10000, :,:]\n",
        "images=training_images\n",
        "training_labels=training_labels[0:10000]\n",
        "\n",
        "def reshape_and_normalize(training_images):\n",
        "    \n",
        "    training_images=training_images.reshape(60000,28,28,1)\n",
        "    training_images=training_images/255.0\n",
        "\n",
        "    return training_images"
      ]
    },
    {
      "cell_type": "markdown",
      "metadata": {
        "id": "-tRfiAUre7lh"
      },
      "source": [
        "Test your function with the next cell:"
      ]
    },
    {
      "cell_type": "code",
      "execution_count": null,
      "metadata": {
        "tags": [
          "graded"
        ],
        "id": "Vd81n-rIe7li"
      },
      "outputs": [],
      "source": [
        "# Reload the images in case you run this cell multiple times\n",
        "(training_images, _), _ = tf.keras.datasets.mnist.load_data(path=data_path) \n",
        "\n",
        "training_images = reshape_and_normalize(training_images)\n",
        "\n",
        "print(f\"Maximum pixel value after normalization: {np.max(training_images)}\\n\")\n",
        "print(f\"Shape of training set after reshaping: {training_images.shape}\\n\")\n",
        "print(f\"Shape of one image after reshaping: {training_images[0].shape}\")\n"
      ]
    },
    {
      "cell_type": "code",
      "execution_count": null,
      "metadata": {
        "tags": [
          "graded"
        ],
        "id": "DjchfIZZe7lm"
      },
      "outputs": [],
      "source": [
        "class myCallback(tf.keras.callbacks.Callback):\n",
        "        def on_epoch_end(self, epoch, logs={}):\n",
        "            if(logs.get('accuracy') is not None and logs.get('accuracy') >= 0.995):\n",
        "                print(\"\\nReached 99.5% accuracy so cancelling training!\")\n",
        "                self.model.stop_training = True"
      ]
    },
    {
      "cell_type": "code",
      "execution_count": null,
      "metadata": {
        "tags": [
          "graded"
        ],
        "id": "D7OPMCHhe7ln"
      },
      "outputs": [],
      "source": [
        "def train_mnist_conv(images):\n",
        "\n",
        "    images=images.reshape(10000,28,28,1)\n",
        "    images=images/255.0\n",
        "\n",
        "    model = tf.keras.models.Sequential([\n",
        "            \n",
        "            tf.keras.layers.Conv2D(64, (3,3), activation='relu', input_shape=(28, 28, 1)),\n",
        "            tf.keras.layers.MaxPooling2D(2, 2),\n",
        "            tf.keras.layers.Conv2D(64, (3,3), activation='relu'),\n",
        "            tf.keras.layers.MaxPooling2D(2,2),\n",
        "            tf.keras.layers.Flatten(),\n",
        "            tf.keras.layers.Dense(68, activation='relu'),\n",
        "            tf.keras.layers.Dense(10, activation='softmax')\n",
        "            \n",
        "    ])\n",
        "\n",
        "    model.compile(optimizer='adam', loss='sparse_categorical_crossentropy', metrics=['accuracy'])\n",
        "    history = model.fit(\n",
        "            images, training_labels, epochs=10, callbacks=[myCallback()]\n",
        "        \n",
        "    )\n",
        "    return model"
      ]
    },
    {
      "cell_type": "code",
      "execution_count": null,
      "metadata": {
        "tags": [
          "graded"
        ],
        "id": "eo-KQaybe7lo",
        "outputId": "a3cf51d2-4b7e-48d4-8e78-f5486780f7fc"
      },
      "outputs": [
        {
          "name": "stdout",
          "output_type": "stream",
          "text": [
            "Epoch 1/10\n",
            "313/313 [==============================] - 15s 46ms/step - loss: 0.3840 - accuracy: 0.8829\n",
            "Epoch 2/10\n",
            "313/313 [==============================] - 14s 45ms/step - loss: 0.1141 - accuracy: 0.9649\n",
            "Epoch 3/10\n",
            "313/313 [==============================] - 14s 45ms/step - loss: 0.0744 - accuracy: 0.9771\n",
            "Epoch 4/10\n",
            "313/313 [==============================] - 14s 45ms/step - loss: 0.0542 - accuracy: 0.9829\n",
            "Epoch 5/10\n",
            "313/313 [==============================] - 14s 45ms/step - loss: 0.0392 - accuracy: 0.9879\n",
            "Epoch 6/10\n",
            "313/313 [==============================] - 14s 45ms/step - loss: 0.0290 - accuracy: 0.9908\n",
            "Epoch 7/10\n",
            "313/313 [==============================] - 14s 45ms/step - loss: 0.0197 - accuracy: 0.9940\n",
            "Epoch 8/10\n",
            "313/313 [==============================] - 14s 45ms/step - loss: 0.0164 - accuracy: 0.9946\n",
            "Epoch 9/10\n",
            "312/313 [============================>.] - ETA: 0s - loss: 0.0156 - accuracy: 0.9951\n",
            "Reached 99.5% accuracy so cancelling training!\n",
            "313/313 [==============================] - 14s 45ms/step - loss: 0.0155 - accuracy: 0.9951\n"
          ]
        }
      ],
      "source": [
        "\n",
        "history= train_mnist_conv(images)"
      ]
    }
  ],
  "metadata": {
    "jupytext": {
      "main_language": "python"
    },
    "kernelspec": {
      "display_name": "Python 3",
      "language": "python",
      "name": "python3"
    },
    "language_info": {
      "codemirror_mode": {
        "name": "ipython",
        "version": 3
      },
      "file_extension": ".py",
      "mimetype": "text/x-python",
      "name": "python",
      "nbconvert_exporter": "python",
      "pygments_lexer": "ipython3",
      "version": "3.8.8"
    },
    "colab": {
      "name": "convolutions_with_callback.ipynb",
      "provenance": []
    }
  },
  "nbformat": 4,
  "nbformat_minor": 0
}